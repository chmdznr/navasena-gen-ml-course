{
  "nbformat": 4,
  "nbformat_minor": 0,
  "metadata": {
    "colab": {
      "provenance": []
    },
    "kernelspec": {
      "name": "python3",
      "display_name": "Python 3"
    },
    "language_info": {
      "name": "python"
    },
    "widgets": {
      "application/vnd.jupyter.widget-state+json": {
        "44056595d1e74b89a8c7e58271000435": {
          "model_module": "@jupyter-widgets/controls",
          "model_name": "HBoxModel",
          "model_module_version": "1.5.0",
          "state": {
            "_dom_classes": [],
            "_model_module": "@jupyter-widgets/controls",
            "_model_module_version": "1.5.0",
            "_model_name": "HBoxModel",
            "_view_count": null,
            "_view_module": "@jupyter-widgets/controls",
            "_view_module_version": "1.5.0",
            "_view_name": "HBoxView",
            "box_style": "",
            "children": [
              "IPY_MODEL_9a4c4447632347898ebff7895442b944",
              "IPY_MODEL_ab61a0b0c4a34255bccc71f040f62135",
              "IPY_MODEL_1d8b3cb74a414a479d0156f74e4051a7"
            ],
            "layout": "IPY_MODEL_f03c9f83f3394f66bf50c23888e5bb91"
          }
        },
        "9a4c4447632347898ebff7895442b944": {
          "model_module": "@jupyter-widgets/controls",
          "model_name": "HTMLModel",
          "model_module_version": "1.5.0",
          "state": {
            "_dom_classes": [],
            "_model_module": "@jupyter-widgets/controls",
            "_model_module_version": "1.5.0",
            "_model_name": "HTMLModel",
            "_view_count": null,
            "_view_module": "@jupyter-widgets/controls",
            "_view_module_version": "1.5.0",
            "_view_name": "HTMLView",
            "description": "",
            "description_tooltip": null,
            "layout": "IPY_MODEL_e4147a6258c4406eb7cbd68a839e052f",
            "placeholder": "​",
            "style": "IPY_MODEL_9066c9f8abc7406f8d4f5d18a248d161",
            "value": "postagger_v10.pkl: 100%"
          }
        },
        "ab61a0b0c4a34255bccc71f040f62135": {
          "model_module": "@jupyter-widgets/controls",
          "model_name": "FloatProgressModel",
          "model_module_version": "1.5.0",
          "state": {
            "_dom_classes": [],
            "_model_module": "@jupyter-widgets/controls",
            "_model_module_version": "1.5.0",
            "_model_name": "FloatProgressModel",
            "_view_count": null,
            "_view_module": "@jupyter-widgets/controls",
            "_view_module_version": "1.5.0",
            "_view_name": "ProgressView",
            "bar_style": "success",
            "description": "",
            "description_tooltip": null,
            "layout": "IPY_MODEL_8cf11ce78828444d907fd08873ae0423",
            "max": 281970056,
            "min": 0,
            "orientation": "horizontal",
            "style": "IPY_MODEL_c3fc42cc803b41f8b1edd39327db1ee2",
            "value": 281970056
          }
        },
        "1d8b3cb74a414a479d0156f74e4051a7": {
          "model_module": "@jupyter-widgets/controls",
          "model_name": "HTMLModel",
          "model_module_version": "1.5.0",
          "state": {
            "_dom_classes": [],
            "_model_module": "@jupyter-widgets/controls",
            "_model_module_version": "1.5.0",
            "_model_name": "HTMLModel",
            "_view_count": null,
            "_view_module": "@jupyter-widgets/controls",
            "_view_module_version": "1.5.0",
            "_view_name": "HTMLView",
            "description": "",
            "description_tooltip": null,
            "layout": "IPY_MODEL_23082b3e6311453aba6b3e8129a46962",
            "placeholder": "​",
            "style": "IPY_MODEL_3c5276d2c5f44f7e806efdde378ba4f8",
            "value": " 282M/282M [00:06&lt;00:00, 110MB/s]"
          }
        },
        "f03c9f83f3394f66bf50c23888e5bb91": {
          "model_module": "@jupyter-widgets/base",
          "model_name": "LayoutModel",
          "model_module_version": "1.2.0",
          "state": {
            "_model_module": "@jupyter-widgets/base",
            "_model_module_version": "1.2.0",
            "_model_name": "LayoutModel",
            "_view_count": null,
            "_view_module": "@jupyter-widgets/base",
            "_view_module_version": "1.2.0",
            "_view_name": "LayoutView",
            "align_content": null,
            "align_items": null,
            "align_self": null,
            "border": null,
            "bottom": null,
            "display": null,
            "flex": null,
            "flex_flow": null,
            "grid_area": null,
            "grid_auto_columns": null,
            "grid_auto_flow": null,
            "grid_auto_rows": null,
            "grid_column": null,
            "grid_gap": null,
            "grid_row": null,
            "grid_template_areas": null,
            "grid_template_columns": null,
            "grid_template_rows": null,
            "height": null,
            "justify_content": null,
            "justify_items": null,
            "left": null,
            "margin": null,
            "max_height": null,
            "max_width": null,
            "min_height": null,
            "min_width": null,
            "object_fit": null,
            "object_position": null,
            "order": null,
            "overflow": null,
            "overflow_x": null,
            "overflow_y": null,
            "padding": null,
            "right": null,
            "top": null,
            "visibility": null,
            "width": null
          }
        },
        "e4147a6258c4406eb7cbd68a839e052f": {
          "model_module": "@jupyter-widgets/base",
          "model_name": "LayoutModel",
          "model_module_version": "1.2.0",
          "state": {
            "_model_module": "@jupyter-widgets/base",
            "_model_module_version": "1.2.0",
            "_model_name": "LayoutModel",
            "_view_count": null,
            "_view_module": "@jupyter-widgets/base",
            "_view_module_version": "1.2.0",
            "_view_name": "LayoutView",
            "align_content": null,
            "align_items": null,
            "align_self": null,
            "border": null,
            "bottom": null,
            "display": null,
            "flex": null,
            "flex_flow": null,
            "grid_area": null,
            "grid_auto_columns": null,
            "grid_auto_flow": null,
            "grid_auto_rows": null,
            "grid_column": null,
            "grid_gap": null,
            "grid_row": null,
            "grid_template_areas": null,
            "grid_template_columns": null,
            "grid_template_rows": null,
            "height": null,
            "justify_content": null,
            "justify_items": null,
            "left": null,
            "margin": null,
            "max_height": null,
            "max_width": null,
            "min_height": null,
            "min_width": null,
            "object_fit": null,
            "object_position": null,
            "order": null,
            "overflow": null,
            "overflow_x": null,
            "overflow_y": null,
            "padding": null,
            "right": null,
            "top": null,
            "visibility": null,
            "width": null
          }
        },
        "9066c9f8abc7406f8d4f5d18a248d161": {
          "model_module": "@jupyter-widgets/controls",
          "model_name": "DescriptionStyleModel",
          "model_module_version": "1.5.0",
          "state": {
            "_model_module": "@jupyter-widgets/controls",
            "_model_module_version": "1.5.0",
            "_model_name": "DescriptionStyleModel",
            "_view_count": null,
            "_view_module": "@jupyter-widgets/base",
            "_view_module_version": "1.2.0",
            "_view_name": "StyleView",
            "description_width": ""
          }
        },
        "8cf11ce78828444d907fd08873ae0423": {
          "model_module": "@jupyter-widgets/base",
          "model_name": "LayoutModel",
          "model_module_version": "1.2.0",
          "state": {
            "_model_module": "@jupyter-widgets/base",
            "_model_module_version": "1.2.0",
            "_model_name": "LayoutModel",
            "_view_count": null,
            "_view_module": "@jupyter-widgets/base",
            "_view_module_version": "1.2.0",
            "_view_name": "LayoutView",
            "align_content": null,
            "align_items": null,
            "align_self": null,
            "border": null,
            "bottom": null,
            "display": null,
            "flex": null,
            "flex_flow": null,
            "grid_area": null,
            "grid_auto_columns": null,
            "grid_auto_flow": null,
            "grid_auto_rows": null,
            "grid_column": null,
            "grid_gap": null,
            "grid_row": null,
            "grid_template_areas": null,
            "grid_template_columns": null,
            "grid_template_rows": null,
            "height": null,
            "justify_content": null,
            "justify_items": null,
            "left": null,
            "margin": null,
            "max_height": null,
            "max_width": null,
            "min_height": null,
            "min_width": null,
            "object_fit": null,
            "object_position": null,
            "order": null,
            "overflow": null,
            "overflow_x": null,
            "overflow_y": null,
            "padding": null,
            "right": null,
            "top": null,
            "visibility": null,
            "width": null
          }
        },
        "c3fc42cc803b41f8b1edd39327db1ee2": {
          "model_module": "@jupyter-widgets/controls",
          "model_name": "ProgressStyleModel",
          "model_module_version": "1.5.0",
          "state": {
            "_model_module": "@jupyter-widgets/controls",
            "_model_module_version": "1.5.0",
            "_model_name": "ProgressStyleModel",
            "_view_count": null,
            "_view_module": "@jupyter-widgets/base",
            "_view_module_version": "1.2.0",
            "_view_name": "StyleView",
            "bar_color": null,
            "description_width": ""
          }
        },
        "23082b3e6311453aba6b3e8129a46962": {
          "model_module": "@jupyter-widgets/base",
          "model_name": "LayoutModel",
          "model_module_version": "1.2.0",
          "state": {
            "_model_module": "@jupyter-widgets/base",
            "_model_module_version": "1.2.0",
            "_model_name": "LayoutModel",
            "_view_count": null,
            "_view_module": "@jupyter-widgets/base",
            "_view_module_version": "1.2.0",
            "_view_name": "LayoutView",
            "align_content": null,
            "align_items": null,
            "align_self": null,
            "border": null,
            "bottom": null,
            "display": null,
            "flex": null,
            "flex_flow": null,
            "grid_area": null,
            "grid_auto_columns": null,
            "grid_auto_flow": null,
            "grid_auto_rows": null,
            "grid_column": null,
            "grid_gap": null,
            "grid_row": null,
            "grid_template_areas": null,
            "grid_template_columns": null,
            "grid_template_rows": null,
            "height": null,
            "justify_content": null,
            "justify_items": null,
            "left": null,
            "margin": null,
            "max_height": null,
            "max_width": null,
            "min_height": null,
            "min_width": null,
            "object_fit": null,
            "object_position": null,
            "order": null,
            "overflow": null,
            "overflow_x": null,
            "overflow_y": null,
            "padding": null,
            "right": null,
            "top": null,
            "visibility": null,
            "width": null
          }
        },
        "3c5276d2c5f44f7e806efdde378ba4f8": {
          "model_module": "@jupyter-widgets/controls",
          "model_name": "DescriptionStyleModel",
          "model_module_version": "1.5.0",
          "state": {
            "_model_module": "@jupyter-widgets/controls",
            "_model_module_version": "1.5.0",
            "_model_name": "DescriptionStyleModel",
            "_view_count": null,
            "_view_module": "@jupyter-widgets/base",
            "_view_module_version": "1.2.0",
            "_view_name": "StyleView",
            "description_width": ""
          }
        }
      }
    }
  },
  "cells": [
    {
      "cell_type": "code",
      "source": [
        "# Install required libraries\n",
        "!pip install nlp-id pandas matplotlib seaborn nltk"
      ],
      "metadata": {
        "colab": {
          "base_uri": "https://localhost:8080/"
        },
        "id": "u2dTubPgVFbq",
        "outputId": "481a823c-bcac-41df-d0fd-1e8102d704eb"
      },
      "execution_count": null,
      "outputs": [
        {
          "output_type": "stream",
          "name": "stdout",
          "text": [
            "Requirement already satisfied: nlp-id in /usr/local/lib/python3.10/dist-packages (0.1.18.0)\n",
            "Requirement already satisfied: pandas in /usr/local/lib/python3.10/dist-packages (2.2.2)\n",
            "Requirement already satisfied: matplotlib in /usr/local/lib/python3.10/dist-packages (3.7.1)\n",
            "Requirement already satisfied: seaborn in /usr/local/lib/python3.10/dist-packages (0.13.2)\n",
            "Requirement already satisfied: nltk in /usr/local/lib/python3.10/dist-packages (3.9.1)\n",
            "Requirement already satisfied: huggingface-hub==0.23.4 in /usr/local/lib/python3.10/dist-packages (from nlp-id) (0.23.4)\n",
            "Requirement already satisfied: numpy==1.26.4 in /usr/local/lib/python3.10/dist-packages (from nlp-id) (1.26.4)\n",
            "Requirement already satisfied: scikit-learn==1.5.1 in /usr/local/lib/python3.10/dist-packages (from nlp-id) (1.5.1)\n",
            "Requirement already satisfied: scipy==1.13.1 in /usr/local/lib/python3.10/dist-packages (from nlp-id) (1.13.1)\n",
            "Requirement already satisfied: wget==3.2 in /usr/local/lib/python3.10/dist-packages (from nlp-id) (3.2)\n",
            "Requirement already satisfied: click in /usr/local/lib/python3.10/dist-packages (from nltk) (8.1.7)\n",
            "Requirement already satisfied: joblib in /usr/local/lib/python3.10/dist-packages (from nltk) (1.4.2)\n",
            "Requirement already satisfied: regex>=2021.8.3 in /usr/local/lib/python3.10/dist-packages (from nltk) (2024.9.11)\n",
            "Requirement already satisfied: tqdm in /usr/local/lib/python3.10/dist-packages (from nltk) (4.66.5)\n",
            "Requirement already satisfied: filelock in /usr/local/lib/python3.10/dist-packages (from huggingface-hub==0.23.4->nlp-id) (3.16.1)\n",
            "Requirement already satisfied: fsspec>=2023.5.0 in /usr/local/lib/python3.10/dist-packages (from huggingface-hub==0.23.4->nlp-id) (2024.6.1)\n",
            "Requirement already satisfied: packaging>=20.9 in /usr/local/lib/python3.10/dist-packages (from huggingface-hub==0.23.4->nlp-id) (24.1)\n",
            "Requirement already satisfied: pyyaml>=5.1 in /usr/local/lib/python3.10/dist-packages (from huggingface-hub==0.23.4->nlp-id) (6.0.2)\n",
            "Requirement already satisfied: requests in /usr/local/lib/python3.10/dist-packages (from huggingface-hub==0.23.4->nlp-id) (2.32.3)\n",
            "Requirement already satisfied: typing-extensions>=3.7.4.3 in /usr/local/lib/python3.10/dist-packages (from huggingface-hub==0.23.4->nlp-id) (4.12.2)\n",
            "Requirement already satisfied: threadpoolctl>=3.1.0 in /usr/local/lib/python3.10/dist-packages (from scikit-learn==1.5.1->nlp-id) (3.5.0)\n",
            "Requirement already satisfied: python-dateutil>=2.8.2 in /usr/local/lib/python3.10/dist-packages (from pandas) (2.8.2)\n",
            "Requirement already satisfied: pytz>=2020.1 in /usr/local/lib/python3.10/dist-packages (from pandas) (2024.2)\n",
            "Requirement already satisfied: tzdata>=2022.7 in /usr/local/lib/python3.10/dist-packages (from pandas) (2024.2)\n",
            "Requirement already satisfied: contourpy>=1.0.1 in /usr/local/lib/python3.10/dist-packages (from matplotlib) (1.3.0)\n",
            "Requirement already satisfied: cycler>=0.10 in /usr/local/lib/python3.10/dist-packages (from matplotlib) (0.12.1)\n",
            "Requirement already satisfied: fonttools>=4.22.0 in /usr/local/lib/python3.10/dist-packages (from matplotlib) (4.54.1)\n",
            "Requirement already satisfied: kiwisolver>=1.0.1 in /usr/local/lib/python3.10/dist-packages (from matplotlib) (1.4.7)\n",
            "Requirement already satisfied: pillow>=6.2.0 in /usr/local/lib/python3.10/dist-packages (from matplotlib) (10.4.0)\n",
            "Requirement already satisfied: pyparsing>=2.3.1 in /usr/local/lib/python3.10/dist-packages (from matplotlib) (3.2.0)\n",
            "Requirement already satisfied: six>=1.5 in /usr/local/lib/python3.10/dist-packages (from python-dateutil>=2.8.2->pandas) (1.16.0)\n",
            "Requirement already satisfied: charset-normalizer<4,>=2 in /usr/local/lib/python3.10/dist-packages (from requests->huggingface-hub==0.23.4->nlp-id) (3.4.0)\n",
            "Requirement already satisfied: idna<4,>=2.5 in /usr/local/lib/python3.10/dist-packages (from requests->huggingface-hub==0.23.4->nlp-id) (3.10)\n",
            "Requirement already satisfied: urllib3<3,>=1.21.1 in /usr/local/lib/python3.10/dist-packages (from requests->huggingface-hub==0.23.4->nlp-id) (2.2.3)\n",
            "Requirement already satisfied: certifi>=2017.4.17 in /usr/local/lib/python3.10/dist-packages (from requests->huggingface-hub==0.23.4->nlp-id) (2024.8.30)\n"
          ]
        }
      ]
    },
    {
      "cell_type": "code",
      "execution_count": null,
      "metadata": {
        "id": "bD7LQqYZUyNN"
      },
      "outputs": [],
      "source": [
        "import pandas as pd\n",
        "import matplotlib.pyplot as plt\n",
        "import seaborn as sns\n",
        "from collections import Counter\n",
        "import re\n",
        "import string\n",
        "\n",
        "# Import correct modules from nlp-id\n",
        "from nlp_id.tokenizer import Tokenizer, PhraseTokenizer\n",
        "from nlp_id.postag import PosTag\n",
        "from nlp_id.stopword import StopWord\n",
        "from nlp_id.lemmatizer import Lemmatizer"
      ]
    },
    {
      "cell_type": "code",
      "source": [
        "# Initialize the required classes\n",
        "tokenizer = Tokenizer()\n",
        "phrase_tokenizer = PhraseTokenizer()\n",
        "postagger = PosTag()\n",
        "stopword = StopWord()\n",
        "lemmatizer = Lemmatizer()"
      ],
      "metadata": {
        "colab": {
          "base_uri": "https://localhost:8080/",
          "height": 178,
          "referenced_widgets": [
            "44056595d1e74b89a8c7e58271000435",
            "9a4c4447632347898ebff7895442b944",
            "ab61a0b0c4a34255bccc71f040f62135",
            "1d8b3cb74a414a479d0156f74e4051a7",
            "f03c9f83f3394f66bf50c23888e5bb91",
            "e4147a6258c4406eb7cbd68a839e052f",
            "9066c9f8abc7406f8d4f5d18a248d161",
            "8cf11ce78828444d907fd08873ae0423",
            "c3fc42cc803b41f8b1edd39327db1ee2",
            "23082b3e6311453aba6b3e8129a46962",
            "3c5276d2c5f44f7e806efdde378ba4f8"
          ]
        },
        "id": "2vb2vQKEa3qc",
        "outputId": "675bf082-eed2-463d-8f06-a47d0af8e5e9"
      },
      "execution_count": null,
      "outputs": [
        {
          "output_type": "stream",
          "name": "stderr",
          "text": [
            "/usr/local/lib/python3.10/dist-packages/huggingface_hub/utils/_token.py:89: UserWarning: \n",
            "The secret `HF_TOKEN` does not exist in your Colab secrets.\n",
            "To authenticate with the Hugging Face Hub, create a token in your settings tab (https://huggingface.co/settings/tokens), set it as secret in your Google Colab and restart your session.\n",
            "You will be able to reuse this secret in all of your notebooks.\n",
            "Please note that authentication is recommended but still optional to access public models or datasets.\n",
            "  warnings.warn(\n"
          ]
        },
        {
          "output_type": "display_data",
          "data": {
            "text/plain": [
              "postagger_v10.pkl:   0%|          | 0.00/282M [00:00<?, ?B/s]"
            ],
            "application/vnd.jupyter.widget-view+json": {
              "version_major": 2,
              "version_minor": 0,
              "model_id": "44056595d1e74b89a8c7e58271000435"
            }
          },
          "metadata": {}
        }
      ]
    },
    {
      "cell_type": "code",
      "source": [
        "import nltk\n",
        "\n",
        "# Download the 'punkt_tab' data for sentence tokenization\n",
        "nltk.download('punkt_tab')"
      ],
      "metadata": {
        "colab": {
          "base_uri": "https://localhost:8080/"
        },
        "id": "cXKX95FhbfG7",
        "outputId": "aa944415-089b-4de5-891a-266a4d6439b0"
      },
      "execution_count": null,
      "outputs": [
        {
          "output_type": "stream",
          "name": "stderr",
          "text": [
            "[nltk_data] Downloading package punkt_tab to /root/nltk_data...\n",
            "[nltk_data]   Unzipping tokenizers/punkt_tab.zip.\n"
          ]
        },
        {
          "output_type": "execute_result",
          "data": {
            "text/plain": [
              "True"
            ]
          },
          "metadata": {},
          "execution_count": 11
        }
      ]
    },
    {
      "cell_type": "code",
      "source": [
        "# 1. Text Preprocessing Pipeline\n",
        "print(\"1. Text Preprocessing Pipeline\")\n",
        "\n",
        "def preprocess_text(text):\n",
        "    \"\"\"Basic preprocessing pipeline for Indonesian text\"\"\"\n",
        "    # Convert to lowercase\n",
        "    text = text.lower()\n",
        "\n",
        "    # Remove punctuation\n",
        "    text = text.translate(str.maketrans(\"\", \"\", string.punctuation))\n",
        "\n",
        "    # Remove numbers\n",
        "    text = re.sub(r'\\d+', '', text)\n",
        "\n",
        "    # Remove extra whitespace\n",
        "    text = ' '.join(text.split())\n",
        "\n",
        "    # Tokenization\n",
        "    tokens = tokenizer.tokenize(text)\n",
        "\n",
        "    # Remove stopwords\n",
        "    tokens = [token for token in tokens if token not in stopword.get_stopword()]\n",
        "\n",
        "    # Lemmatization\n",
        "    tokens = [lemmatizer.lemmatize(token) for token in tokens]\n",
        "\n",
        "    return tokens"
      ],
      "metadata": {
        "colab": {
          "base_uri": "https://localhost:8080/"
        },
        "id": "a-9SSOiPVLU3",
        "outputId": "4cedfed6-fefc-42c8-cab8-62e83171fd8b"
      },
      "execution_count": null,
      "outputs": [
        {
          "output_type": "stream",
          "name": "stdout",
          "text": [
            "1. Text Preprocessing Pipeline\n"
          ]
        }
      ]
    },
    {
      "cell_type": "code",
      "source": [
        "# Example texts\n",
        "texts = [\n",
        "    \"\"\"\n",
        "    Pemrosesan Bahasa Alami (NLP) adalah bidang ilmu komputer dan kecerdasan buatan\n",
        "    yang berfokus pada interaksi antara komputer dan bahasa manusia.\n",
        "    \"\"\",\n",
        "    \"\"\"\n",
        "    Gw suka bgt sama teknologi NLP nih, keren banget aplikasinya!\n",
        "    \"\"\",\n",
        "    \"\"\"\n",
        "    Para peneliti sedang mengembangkan algoritma baru untuk meningkatkan akurasi.\n",
        "    \"\"\"\n",
        "]"
      ],
      "metadata": {
        "id": "tkM0z1BlVMyx"
      },
      "execution_count": null,
      "outputs": []
    },
    {
      "cell_type": "code",
      "source": [
        "print(\"\\nText Preprocessing Examples:\")\n",
        "for i, text in enumerate(texts, 1):\n",
        "    print(f\"\\nExample {i}:\")\n",
        "    print(\"Original:\", text.strip())\n",
        "    preprocessed = preprocess_text(text)\n",
        "    print(\"Preprocessed:\", preprocessed)\n"
      ],
      "metadata": {
        "colab": {
          "base_uri": "https://localhost:8080/"
        },
        "id": "nzi-elLwVQo3",
        "outputId": "3e03ce7b-37cb-4264-ae1f-c451d1cfed61"
      },
      "execution_count": null,
      "outputs": [
        {
          "output_type": "stream",
          "name": "stdout",
          "text": [
            "\n",
            "Text Preprocessing Examples:\n",
            "\n",
            "Example 1:\n",
            "Original: Pemrosesan Bahasa Alami (NLP) adalah bidang ilmu komputer dan kecerdasan buatan \n",
            "    yang berfokus pada interaksi antara komputer dan bahasa manusia.\n",
            "Preprocessed: ['proses', 'bahasa', 'alami', 'nlp', 'bidang', 'ilmu', 'komputer', 'cerdas', 'buat', 'fokus', 'interaksi', 'komputer', 'bahasa', 'manusia']\n",
            "\n",
            "Example 2:\n",
            "Original: Gw suka bgt sama teknologi NLP nih, keren banget aplikasinya!\n",
            "Preprocessed: ['gw', 'suka', 'bgt', 'teknologi', 'nlp', 'nih', 'keren', 'aplikasi']\n",
            "\n",
            "Example 3:\n",
            "Original: Para peneliti sedang mengembangkan algoritma baru untuk meningkatkan akurasi.\n",
            "Preprocessed: ['teliti', 'kembang', 'algoritma', 'tingkat', 'akurasi']\n"
          ]
        }
      ]
    },
    {
      "cell_type": "code",
      "source": [
        "# 2. POS Tagging\n",
        "print(\"\\n2. POS Tagging (Part of Speech)\")\n",
        "text_for_pos = \"Saya sedang belajar pemrosesan bahasa alami di universitas.\"\n",
        "# Ensure tokens is a string\n",
        "tokens = \" \".join(tokenizer.tokenize(text_for_pos))\n",
        "# Joining the tokens into a single string\n",
        "\n",
        "pos_tags = postagger.get_pos_tag(tokens)\n",
        "\n",
        "print(\"\\nPOS Tagging Results:\")\n",
        "for token, tag in pos_tags:\n",
        "    print(f\"{token}: {tag}\")"
      ],
      "metadata": {
        "colab": {
          "base_uri": "https://localhost:8080/"
        },
        "id": "iVfa6ktaVT8k",
        "outputId": "5e5906f3-d82a-4908-b45e-fcaefba65efc"
      },
      "execution_count": null,
      "outputs": [
        {
          "output_type": "stream",
          "name": "stdout",
          "text": [
            "\n",
            "2. POS Tagging (Part of Speech)\n",
            "\n",
            "POS Tagging Results:\n",
            "Saya: PR\n",
            "sedang: ADV\n",
            "belajar: VB\n",
            "pemrosesan: NN\n",
            "bahasa: NN\n",
            "alami: VB\n",
            "di: IN\n",
            "universitas: NN\n",
            ".: SYM\n"
          ]
        }
      ]
    },
    {
      "cell_type": "code",
      "source": [
        "# 3. Phrase Tokenization\n",
        "print(\"\\n3. Phrase Tokenization Example\")\n",
        "text_for_phrase = \"Universitas Indonesia adalah kampus terbaik di Jakarta.\"\n",
        "phrases = phrase_tokenizer.tokenize(text_for_phrase)\n",
        "print(\"\\nPhrase Tokenization Results:\")\n",
        "print(phrases)"
      ],
      "metadata": {
        "colab": {
          "base_uri": "https://localhost:8080/"
        },
        "id": "nrGn2aG8VX0i",
        "outputId": "7ccd80c5-efa7-4631-e9b9-a1b3b8ed2377"
      },
      "execution_count": null,
      "outputs": [
        {
          "output_type": "stream",
          "name": "stdout",
          "text": [
            "\n",
            "3. Phrase Tokenization Example\n",
            "\n",
            "Phrase Tokenization Results:\n",
            "['Universitas Indonesia', 'adalah', 'kampus terbaik', 'di', 'Jakarta', '.']\n"
          ]
        }
      ]
    },
    {
      "cell_type": "code",
      "source": [
        "# 4. Word Frequency Analysis with Preprocessing\n",
        "print(\"\\n4. Word Frequency Analysis\")\n",
        "\n",
        "def analyze_word_frequency(texts):\n",
        "    all_tokens = []\n",
        "    for text in texts:\n",
        "        tokens = preprocess_text(text)\n",
        "        all_tokens.extend(tokens)\n",
        "\n",
        "    return Counter(all_tokens)"
      ],
      "metadata": {
        "colab": {
          "base_uri": "https://localhost:8080/"
        },
        "id": "FT9bttHtcAQW",
        "outputId": "07bf7c04-0c7a-48e4-f769-a455a526b43d"
      },
      "execution_count": null,
      "outputs": [
        {
          "output_type": "stream",
          "name": "stdout",
          "text": [
            "\n",
            "4. Word Frequency Analysis\n"
          ]
        }
      ]
    },
    {
      "cell_type": "code",
      "source": [
        "# Create a larger sample text for analysis\n",
        "sample_texts = [\n",
        "    \"Teknologi NLP semakin berkembang di Indonesia.\",\n",
        "    \"Para peneliti terus mengembangkan model bahasa yang lebih baik.\",\n",
        "    \"Aplikasi berbasis NLP sangat membantu dalam pekerjaan sehari-hari.\",\n",
        "    \"Preprocessing teks adalah langkah penting dalam NLP.\",\n",
        "    \"Banyak perusahaan menggunakan NLP untuk analisis sentimen.\"\n",
        "]"
      ],
      "metadata": {
        "id": "PYuTaOyVcD3e"
      },
      "execution_count": null,
      "outputs": []
    },
    {
      "cell_type": "code",
      "source": [
        "word_freq = analyze_word_frequency(sample_texts)\n",
        "\n",
        "# Visualize word frequency\n",
        "plt.figure(figsize=(12, 6))\n",
        "word_freq_df = pd.DataFrame(word_freq.most_common(15), columns=['Word', 'Frequency'])\n",
        "sns.barplot(x='Frequency', y='Word', data=word_freq_df)\n",
        "plt.title(\"Word Frequency Distribution (Top 15)\")\n",
        "plt.show()"
      ],
      "metadata": {
        "colab": {
          "base_uri": "https://localhost:8080/",
          "height": 564
        },
        "id": "CHvtW_QwcFCz",
        "outputId": "b6c95a25-83f9-4aef-9509-e7aa7fd420b3"
      },
      "execution_count": null,
      "outputs": [
        {
          "output_type": "display_data",
          "data": {
            "text/plain": [
              "<Figure size 1200x600 with 1 Axes>"
            ],
            "image/png": "[encoded data removed]"
          },
          "metadata": {}
        }
      ]
    },
    {
      "cell_type": "code",
      "source": [
        "# 5. Stopword Analysis\n",
        "print(\"\\n5. Stopword Analysis\")\n",
        "print(\"\\nSample of Indonesian stopwords:\")\n",
        "print(list(stopword.get_stopword())[:20])\n"
      ],
      "metadata": {
        "colab": {
          "base_uri": "https://localhost:8080/"
        },
        "id": "M5lpkxCRcUZ_",
        "outputId": "83a77b16-49a6-420b-a583-4560f36a4970"
      },
      "execution_count": null,
      "outputs": [
        {
          "output_type": "stream",
          "name": "stdout",
          "text": [
            "\n",
            "5. Stopword Analysis\n",
            "\n",
            "Sample of Indonesian stopwords:\n",
            "['ada', 'adalagi', 'adalah', 'adanya', 'adapun', 'agak', 'agak-agak', 'agaknya', 'agar', 'aja', 'akan', 'akankah', 'akankan', 'akhir', 'akhir-akhirnya', 'akhirannya', 'akhiri', 'akhirinya', 'akhirnya', 'aku']\n"
          ]
        }
      ]
    },
    {
      "cell_type": "code",
      "source": [
        "# 6. Lemmatization Example\n",
        "print(\"\\n6. Lemmatization Example\")\n",
        "words_to_lemmatize = [\n",
        "    \"memakan\", \"bermain\", \"berlari\", \"menulis\", \"membaca\",\n",
        "    \"mempelajari\", \"mengembangkan\", \"bekerja\", \"berjalan\"\n",
        "]"
      ],
      "metadata": {
        "colab": {
          "base_uri": "https://localhost:8080/"
        },
        "id": "-8RKEQOPcb49",
        "outputId": "554dc1c4-7889-4ffa-b789-7f1bdde38e64"
      },
      "execution_count": null,
      "outputs": [
        {
          "output_type": "stream",
          "name": "stdout",
          "text": [
            "\n",
            "6. Lemmatization Example\n"
          ]
        }
      ]
    },
    {
      "cell_type": "code",
      "source": [
        "print(\"\\nLemmatization Results:\")\n",
        "for word in words_to_lemmatize:\n",
        "    lemma = lemmatizer.lemmatize(word)\n",
        "    print(f\"{word} -> {lemma}\")\n"
      ],
      "metadata": {
        "colab": {
          "base_uri": "https://localhost:8080/"
        },
        "id": "_1h9AuBNcfdY",
        "outputId": "a57edaf2-93d2-44a1-95a0-2a558b4b83d7"
      },
      "execution_count": null,
      "outputs": [
        {
          "output_type": "stream",
          "name": "stdout",
          "text": [
            "\n",
            "Lemmatization Results:\n",
            "memakan -> makan\n",
            "bermain -> main\n",
            "berlari -> lari\n",
            "menulis -> tulis\n",
            "membaca -> baca\n",
            "mempelajari -> ajar\n",
            "mengembangkan -> kembang\n",
            "bekerja -> kerja\n",
            "berjalan -> jalan\n"
          ]
        }
      ]
    },
    {
      "cell_type": "code",
      "source": [
        "# 7. Text Analysis Example\n",
        "print(\"\\n7. Complete Text Analysis Example\")\n",
        "\n",
        "def analyze_text(text):\n",
        "    print(f\"Original Text: {text}\")\n",
        "\n",
        "    # Tokenization\n",
        "    tokens = tokenizer.tokenize(text)\n",
        "    print(f\"Tokens: {tokens}\")\n",
        "\n",
        "    # POS Tagging\n",
        "    # Convert tokens to a string if it's not already\n",
        "    tokens_str = \" \".join(tokens) if isinstance(tokens, list) else tokens\n",
        "    pos_tags = postagger.get_pos_tag(tokens_str)  # Pass the string to get_pos_tag\n",
        "    print(\"POS Tags:\")\n",
        "    for token, tag in pos_tags:\n",
        "        print(f\"  {token}: {tag}\")\n",
        "\n",
        "    # Remove stopwords\n",
        "    filtered_tokens = [token for token in tokens if token not in stopword.get_stopword()]\n",
        "    print(f\"After stopword removal: {filtered_tokens}\")\n",
        "\n",
        "    # Lemmatization\n",
        "    lemmatized = [lemmatizer.lemmatize(token) for token in filtered_tokens]\n",
        "    print(f\"After lemmatization: {lemmatized}\")"
      ],
      "metadata": {
        "colab": {
          "base_uri": "https://localhost:8080/"
        },
        "id": "11P72J72chCR",
        "outputId": "b89c663a-cecf-4a42-d185-8fda750509b3"
      },
      "execution_count": null,
      "outputs": [
        {
          "output_type": "stream",
          "name": "stdout",
          "text": [
            "\n",
            "7. Complete Text Analysis Example\n"
          ]
        }
      ]
    },
    {
      "cell_type": "code",
      "source": [
        "sample_text = \"Saya sedang mempelajari pemrosesan bahasa alami di universitas.\"\n",
        "print(\"\\nComplete Analysis of Sample Text:\")\n",
        "analyze_text(sample_text)"
      ],
      "metadata": {
        "colab": {
          "base_uri": "https://localhost:8080/"
        },
        "id": "jeVAqcXjclir",
        "outputId": "b7f51685-eb4c-445b-8863-9ee29c646564"
      },
      "execution_count": null,
      "outputs": [
        {
          "output_type": "stream",
          "name": "stdout",
          "text": [
            "\n",
            "Complete Analysis of Sample Text:\n",
            "Original Text: Saya sedang mempelajari pemrosesan bahasa alami di universitas.\n",
            "Tokens: ['Saya', 'sedang', 'mempelajari', 'pemrosesan', 'bahasa', 'alami', 'di', 'universitas', '.']\n",
            "POS Tags:\n",
            "  Saya: PR\n",
            "  sedang: ADV\n",
            "  mempelajari: VB\n",
            "  pemrosesan: NN\n",
            "  bahasa: NN\n",
            "  alami: VB\n",
            "  di: IN\n",
            "  universitas: NN\n",
            "  .: SYM\n",
            "After stopword removal: ['Saya', 'mempelajari', 'pemrosesan', 'bahasa', 'alami', 'universitas', '.']\n",
            "After lemmatization: ['saya', 'ajar', 'proses', 'bahasa', 'alami', 'universitas', '']\n"
          ]
        }
      ]
    },
    {
      "cell_type": "code",
      "source": [
        "print(\"\"\"\n",
        "Tips Penggunaan nlp-id:\n",
        "1. Tokenizer menyediakan dua opsi: basic tokenization dan phrase tokenization\n",
        "2. POS Tagger memberikan informasi kelas kata dalam Bahasa Indonesia\n",
        "3. Lemmatizer membantu menemukan bentuk dasar kata\n",
        "4. Daftar stopword sudah disesuaikan dengan Bahasa Indonesia\n",
        "\n",
        "Catatan:\n",
        "- Sesuaikan urutan preprocessing sesuai kebutuhan\n",
        "- Gunakan phrase_tokenizer untuk mengenali frasa\n",
        "- Perhatikan konteks saat menghilangkan stopwords\n",
        "- Lemmatization dapat membantu mengurangi variasi kata\n",
        "\"\"\")"
      ],
      "metadata": {
        "colab": {
          "base_uri": "https://localhost:8080/"
        },
        "id": "EGFsorHHc0Kf",
        "outputId": "0414f753-26c6-4373-d67e-cbf2821306a4"
      },
      "execution_count": null,
      "outputs": [
        {
          "output_type": "stream",
          "name": "stdout",
          "text": [
            "\n",
            "Tips Penggunaan nlp-id:\n",
            "1. Tokenizer menyediakan dua opsi: basic tokenization dan phrase tokenization\n",
            "2. POS Tagger memberikan informasi kelas kata dalam Bahasa Indonesia\n",
            "3. Lemmatizer membantu menemukan bentuk dasar kata\n",
            "4. Daftar stopword sudah disesuaikan dengan Bahasa Indonesia\n",
            "\n",
            "Catatan:\n",
            "- Sesuaikan urutan preprocessing sesuai kebutuhan\n",
            "- Gunakan phrase_tokenizer untuk mengenali frasa\n",
            "- Perhatikan konteks saat menghilangkan stopwords\n",
            "- Lemmatization dapat membantu mengurangi variasi kata\n",
            "\n"
          ]
        }
      ]
    },
    {
      "cell_type": "code",
      "source": [
        "# Detailed Analysis of Sample Indonesian Texts using nlp-id\n",
        "\n",
        "# Import required libraries\n",
        "from nlp_id.tokenizer import Tokenizer\n",
        "from nlp_id.stopword import StopWord\n",
        "from nlp_id.lemmatizer import Lemmatizer\n",
        "from collections import Counter\n",
        "import pandas as pd\n",
        "import matplotlib.pyplot as plt\n",
        "import seaborn as sns\n",
        "\n",
        "# Initialize required components\n",
        "tokenizer = Tokenizer()\n",
        "stopword = StopWord()\n",
        "lemmatizer = Lemmatizer()\n",
        "\n",
        "# Sample texts with explanations\n",
        "sample_texts = [\n",
        "    # Text 1: About NLP technology development\n",
        "    \"Teknologi NLP semakin berkembang di Indonesia.\",\n",
        "\n",
        "    # Text 2: About researchers and language models\n",
        "    \"Para peneliti terus mengembangkan model bahasa yang lebih baik.\",\n",
        "\n",
        "    # Text 3: About NLP applications\n",
        "    \"Aplikasi berbasis NLP sangat membantu dalam pekerjaan sehari-hari.\",\n",
        "\n",
        "    # Text 4: About text preprocessing\n",
        "    \"Preprocessing teks adalah langkah penting dalam NLP.\",\n",
        "\n",
        "    # Text 5: About business applications\n",
        "    \"Banyak perusahaan menggunakan NLP untuk analisis sentimen.\"\n",
        "]\n",
        "\n",
        "# Function to analyze a single text in detail\n",
        "def detailed_text_analysis(text):\n",
        "    print(f\"\\nOriginal Text: {text}\")\n",
        "\n",
        "    # Step 1: Tokenization\n",
        "    tokens = tokenizer.tokenize(text)\n",
        "    print(f\"After tokenization: {tokens}\")\n",
        "\n",
        "    # Step 2: Remove stopwords\n",
        "    stopwords = stopword.get_stopword()\n",
        "    tokens_no_stop = [token for token in tokens if token not in stopwords]\n",
        "    print(f\"After stopword removal: {tokens_no_stop}\")\n",
        "\n",
        "    # Step 3: Lemmatization\n",
        "    lemmatized = [lemmatizer.lemmatize(token) for token in tokens_no_stop]\n",
        "    print(f\"After lemmatization: {lemmatized}\")\n",
        "\n",
        "    return lemmatized\n",
        "\n",
        "# Process all texts and collect statistics\n",
        "print(\"Detailed Analysis of Each Text:\")\n",
        "all_processed_tokens = []\n",
        "for i, text in enumerate(sample_texts, 1):\n",
        "    print(f\"\\n--- Analysis of Text {i} ---\")\n",
        "    processed_tokens = detailed_text_analysis(text)\n",
        "    all_processed_tokens.extend(processed_tokens)\n",
        "\n",
        "# Word frequency analysis\n",
        "print(\"\\nWord Frequency Analysis:\")\n",
        "word_freq = Counter(all_processed_tokens)\n",
        "print(\"\\nMost common words and their frequencies:\")\n",
        "for word, freq in word_freq.most_common():\n",
        "    print(f\"{word}: {freq}\")\n",
        "\n",
        "# Visualize the results\n",
        "plt.figure(figsize=(12, 6))\n",
        "word_freq_df = pd.DataFrame(word_freq.most_common(), columns=['Word', 'Frequency'])\n",
        "sns.barplot(x='Frequency', y='Word', data=word_freq_df)\n",
        "plt.title(\"Word Frequency Distribution (After Processing)\")\n",
        "plt.show()\n",
        "\n",
        "# Summary statistics\n",
        "print(\"\\nSummary Statistics:\")\n",
        "print(f\"Total number of original texts: {len(sample_texts)}\")\n",
        "print(f\"Total words after processing: {len(all_processed_tokens)}\")\n",
        "print(f\"Unique words after processing: {len(set(all_processed_tokens))}\")\n",
        "\n",
        "# Topic analysis\n",
        "print(\"\\nKey Topics in the Texts:\")\n",
        "topic_categories = {\n",
        "    'technology': ['teknologi', 'nlp', 'aplikasi', 'preprocessing'],\n",
        "    'research': ['peneliti', 'model', 'mengembangkan', 'bahasa'],\n",
        "    'business': ['perusahaan', 'pekerjaan', 'analisis', 'sentimen']\n",
        "}\n",
        "\n",
        "print(\"\\nTopic Distribution:\")\n",
        "for topic, keywords in topic_categories.items():\n",
        "    topic_count = sum(1 for token in all_processed_tokens if token.lower() in keywords)\n",
        "    print(f\"{topic}: {topic_count} mentions\")"
      ],
      "metadata": {
        "id": "nSNtkQjfdLzX",
        "outputId": "364d4c23-2c4a-481c-a95b-68c7c23a9d65",
        "colab": {
          "base_uri": "https://localhost:8080/",
          "height": 1000
        }
      },
      "execution_count": null,
      "outputs": [
        {
          "output_type": "stream",
          "name": "stdout",
          "text": [
            "Detailed Analysis of Each Text:\n",
            "\n",
            "--- Analysis of Text 1 ---\n",
            "\n",
            "Original Text: Teknologi NLP semakin berkembang di Indonesia.\n",
            "After tokenization: ['Teknologi', 'NLP', 'semakin', 'berkembang', 'di', 'Indonesia', '.']\n",
            "After stopword removal: ['Teknologi', 'NLP', 'berkembang', 'Indonesia', '.']\n",
            "After lemmatization: ['teknologi', 'nlp', 'kembang', 'indonesia', '']\n",
            "\n",
            "--- Analysis of Text 2 ---\n",
            "\n",
            "Original Text: Para peneliti terus mengembangkan model bahasa yang lebih baik.\n",
            "After tokenization: ['Para', 'peneliti', 'terus', 'mengembangkan', 'model', 'bahasa', 'yang', 'lebih', 'baik', '.']\n",
            "After stopword removal: ['Para', 'peneliti', 'mengembangkan', 'model', 'bahasa', '.']\n",
            "After lemmatization: ['para', 'teliti', 'kembang', 'model', 'bahasa', '']\n",
            "\n",
            "--- Analysis of Text 3 ---\n",
            "\n",
            "Original Text: Aplikasi berbasis NLP sangat membantu dalam pekerjaan sehari-hari.\n",
            "After tokenization: ['Aplikasi', 'berbasis', 'NLP', 'sangat', 'membantu', 'dalam', 'pekerjaan', 'sehari-hari', '.']\n",
            "After stopword removal: ['Aplikasi', 'berbasis', 'NLP', 'membantu', 'pekerjaan', 'sehari-hari', '.']\n",
            "After lemmatization: ['aplikasi', 'basis', 'nlp', 'bantu', 'kerja', 'hari', '']\n",
            "\n",
            "--- Analysis of Text 4 ---\n",
            "\n",
            "Original Text: Preprocessing teks adalah langkah penting dalam NLP.\n",
            "After tokenization: ['Preprocessing', 'teks', 'adalah', 'langkah', 'penting', 'dalam', 'NLP', '.']\n",
            "After stopword removal: ['Preprocessing', 'teks', 'langkah', 'NLP', '.']\n",
            "After lemmatization: ['preprocessing', 'teks', 'langkah', 'nlp', '']\n",
            "\n",
            "--- Analysis of Text 5 ---\n",
            "\n",
            "Original Text: Banyak perusahaan menggunakan NLP untuk analisis sentimen.\n",
            "After tokenization: ['Banyak', 'perusahaan', 'menggunakan', 'NLP', 'untuk', 'analisis', 'sentimen', '.']\n",
            "After stopword removal: ['Banyak', 'perusahaan', 'NLP', 'analisis', 'sentimen', '.']\n",
            "After lemmatization: ['banyak', 'usaha', 'nlp', 'analisis', 'sentimen', '']\n",
            "\n",
            "Word Frequency Analysis:\n",
            "\n",
            "Most common words and their frequencies:\n",
            ": 5\n",
            "nlp: 4\n",
            "kembang: 2\n",
            "teknologi: 1\n",
            "indonesia: 1\n",
            "para: 1\n",
            "teliti: 1\n",
            "model: 1\n",
            "bahasa: 1\n",
            "aplikasi: 1\n",
            "basis: 1\n",
            "bantu: 1\n",
            "kerja: 1\n",
            "hari: 1\n",
            "preprocessing: 1\n",
            "teks: 1\n",
            "langkah: 1\n",
            "banyak: 1\n",
            "usaha: 1\n",
            "analisis: 1\n",
            "sentimen: 1\n"
          ]
        },
        {
          "output_type": "display_data",
          "data": {
            "text/plain": [
              "<Figure size 1200x600 with 1 Axes>"
            ],
            "image/png": "[encoded data removed]"
          },
          "metadata": {}
        },
        {
          "output_type": "stream",
          "name": "stdout",
          "text": [
            "\n",
            "Summary Statistics:\n",
            "Total number of original texts: 5\n",
            "Total words after processing: 29\n",
            "Unique words after processing: 21\n",
            "\n",
            "Key Topics in the Texts:\n",
            "\n",
            "Topic Distribution:\n",
            "technology: 7 mentions\n",
            "research: 2 mentions\n",
            "business: 2 mentions\n"
          ]
        }
      ]
    }
  ]
}